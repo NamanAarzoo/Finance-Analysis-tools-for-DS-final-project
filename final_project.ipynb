{
 "cells": [
  {
   "cell_type": "markdown",
   "metadata": {},
   "source": [
    "<center>\n",
    "    <img src=\"https://cf-courses-data.s3.us.cloud-object-storage.appdomain.cloud/IBMDeveloperSkillsNetwork-DS0105EN-SkillsNetwork/labs/Module2/images/SN_web_lightmode.png\" width=\"300\" alt=\"cognitiveclass.ai logo\">\n",
    "</center>\n"
   ]
  },
  {
   "cell_type": "markdown",
   "metadata": {},
   "source": [
    "#### Add your code below following the instructions given in the course\n"
   ]
  },
  {
   "cell_type": "markdown",
   "metadata": {},
   "source": [
    "# Final project"
   ]
  },
  {
   "cell_type": "markdown",
   "metadata": {},
   "source": [
    "This course introduced us to multiple data science tools, and in this final project, we will use Jupyterlite Notebook, one of the easiest tools to share publicly, and finnaly getting our project reviewed by one of bestie peers."
   ]
  },
  {
   "cell_type": "markdown",
   "metadata": {},
   "source": [
    "### List of the 5 most famous programming languages for data science :\n",
    "1. Python\n",
    "2. R\n",
    "3. SQL\n",
    "4. Java\n",
    "5. MATLAB (MATLAB is both a programming language and an interactive computing environment.)"
   ]
  },
  {
   "cell_type": "markdown",
   "metadata": {},
   "source": [
    "### List of data science libraries\n",
    "\n",
    "\n",
    "**Python:**\n",
    "\n",
    "1. NumPy\n",
    "2. Pandas\n",
    "3. Matplotlib\n",
    "4. Seaborn\n",
    "5. SciPy\n",
    "6. Scikit-learn\n",
    "7. TensorFlow\n",
    "8. Keras\n",
    "\n",
    "**R:**\n",
    "\n",
    "1. ggplot2\n",
    "2. dplyr\n",
    "3. tidyr\n",
    "4. caret\n",
    "5. data.table"
   ]
  },
  {
   "cell_type": "markdown",
   "metadata": {},
   "source": [
    "| Language   | Libraries/Tools                         |\n",
    "|------------|----------------------------------------|\n",
    "| Python     | NumPy, Pandas, Matplotlib, Seaborn, SciPy, Scikit-learn, TensorFlow, Keras, PyTorch, Statsmodels |\n",
    "| R          | ggplot2, dplyr, tidyr, caret, data.table, ggvis, randomForest, glmnet, xgboost, Shiny         |\n",
    "| SQL        | SQL (Structured Query Language)        |\n",
    "| Scala      | Breeze, Spark MLlib                    |\n",
    "| Julia      | DataFrames.jl, Plots.jl               |\n",
    "| JavaScript | D3.js, TensorFlow.js                  |\n",
    "| Java       | Weka, Deeplearning4j                  |\n",
    "| MATLAB     | Statistics and Machine Learning Toolbox, Image Processing Toolbox |\n"
   ]
  },
  {
   "cell_type": "markdown",
   "metadata": {},
   "source": [
    "### Introduction to arithmetic expression with examples"
   ]
  },
  {
   "cell_type": "code",
   "execution_count": 5,
   "metadata": {
    "tags": []
   },
   "outputs": [
    {
     "data": {
      "text/plain": [
       "96"
      ]
     },
     "execution_count": 5,
     "metadata": {},
     "output_type": "execute_result"
    }
   ],
   "source": [
    "# example of Multiplication in python :>\n",
    "7*111\n",
    "# example of Addtion in python :>\n",
    "50+46"
   ]
  },
  {
   "cell_type": "code",
   "execution_count": 17,
   "metadata": {
    "tags": []
   },
   "outputs": [
    {
     "data": {
      "text/plain": [
       "2.0"
      ]
     },
     "execution_count": 17,
     "metadata": {},
     "output_type": "execute_result"
    }
   ],
   "source": [
    "min = 120\n",
    "\n",
    "# uncomment this line for more fun, if you like to input mins\n",
    "# min = int(input(\"Enter the number of mintues to convert to hours :\"))\n",
    "\n",
    "min/60"
   ]
  },
  {
   "cell_type": "markdown",
   "metadata": {},
   "source": [
    "### List of objective/ exercise :\n",
    "\n",
    "- Exercise 1 - Create notebook.\n",
    "- Exercise 2 - Create a markdown cell with the title of the notebook.\n",
    "- Exercise 3 - Create a markdown cell for an introduction.\n",
    "- Exercise 4 - Create a markdown cell to list data science languages.\n",
    "\n",
    "- Exercise 5 - Create a markdown cell to list data science libraries.\n",
    "\n",
    "- Exercise 6 - Create a markdown cell with a table of Data Science tools.\n",
    "\n",
    "- Exercise 7 - Create a markdown cell introducing arithmetic expression examples.\n",
    "\n",
    "- Exercise 8 - Create a code cell to multiply and add numbers.\n",
    "\n",
    "- Exercise 9 - Create a code cell to convert minutes to hours.\n",
    "\n",
    "- Exercise 10 -Insert a markdown cell to list Objectives.\n",
    "\n",
    "- Exercise 11 - Create a markdown cell to indicate the Author’s name.\n",
    "\n",
    "- Exercise 12 - Share your notebook through GitHub\n",
    "\n",
    "- Exercise 13 - Take a screenshot of the first page of the notebook. (1 pt)"
   ]
  },
  {
   "cell_type": "markdown",
   "metadata": {},
   "source": [
    "## Author Naman Aazoo"
   ]
  }
 ],
 "metadata": {
  "kernelspec": {
   "display_name": "Python",
   "language": "python",
   "name": "conda-env-python-py"
  },
  "language_info": {
   "codemirror_mode": {
    "name": "ipython",
    "version": 3
   },
   "file_extension": ".py",
   "mimetype": "text/x-python",
   "name": "python",
   "nbconvert_exporter": "python",
   "pygments_lexer": "ipython3",
   "version": "3.7.12"
  }
 },
 "nbformat": 4,
 "nbformat_minor": 4
}
